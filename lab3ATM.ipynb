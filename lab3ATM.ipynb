{
 "cells": [
  {
   "cell_type": "code",
   "execution_count": 18,
   "id": "0f7c91c2-88c6-45cc-bc95-a82445190d2d",
   "metadata": {},
   "outputs": [],
   "source": [
    "import pandas as pd\n",
    "import numpy as np\n",
    "import matplotlib.pyplot as plt\n",
    "from scipy.stats import chisquare\n",
    "from scipy.optimize import curve_fit\n",
    "import scipy as sp"
   ]
  },
  {
   "cell_type": "code",
   "execution_count": 19,
   "id": "9375508b-785e-467a-9704-189615dc7e56",
   "metadata": {},
   "outputs": [],
   "source": [
    "n_2 = 0.1388888889, 0.1875, 0.21, 0.2222222222, 0.2295918367,0.234375 ,0.237654321\n",
    "wavelength_1 = 1523899.158 ,2055027.893, 2303556.184, 2438361.869, 2518187.61, 2583236.397, 2637747.111"
   ]
  },
  {
   "cell_type": "code",
   "execution_count": 20,
   "id": "06a0ad95-9951-480b-876a-2629a1d74691",
   "metadata": {},
   "outputs": [
    {
     "name": "stdout",
     "output_type": "stream",
     "text": [
      "(0.1388888889, 0.1875, 0.21, 0.2222222222, 0.2295918367, 0.234375, 0.237654321)\n"
     ]
    }
   ],
   "source": [
    "print(n_2)"
   ]
  },
  {
   "cell_type": "code",
   "execution_count": 23,
   "id": "ee168838-40e9-4856-a730-782cd1199b0a",
   "metadata": {},
   "outputs": [
    {
     "name": "stdout",
     "output_type": "stream",
     "text": [
      "11134169.244178077 -28350.999232762766\n"
     ]
    }
   ],
   "source": [
    "m_ryd, b_ryd = np.polyfit(n_2, wavelength_1, 1)\n",
    "print(m_ryd , b_ryd)\n",
    "n_2 = np.array(n_2)"
   ]
  },
  {
   "cell_type": "code",
   "execution_count": 31,
   "id": "420c8533-fee0-4a8f-b832-2cb4d8685b9f",
   "metadata": {},
   "outputs": [
    {
     "name": "stdout",
     "output_type": "stream",
     "text": [
      "132055.044249742 27881.745571763993\n"
     ]
    }
   ],
   "source": [
    "wavelength_res = 11134169.244178077*(n_2) -28350.999232762766\n",
    "residual_ryd = wavelength_1 - wavelength_res\n",
    "\n",
    "RSS_ryd = np.sum(residual_ryd**2)                  # Residual sum of squares\n",
    "Sxx_ryd = np.sum((n_2 - (np.mean(n_2)))**2)              # Spread of x\n",
    "\n",
    "# Step 3: Residual standard error\n",
    "residual_std_error_ryd = np.sqrt(RSS_ryd / (7 - 2))  # σ\n",
    "\n",
    "# Step 4: Standard errors\n",
    "slope_error_ryd = residual_std_error_ryd / np.sqrt(Sxx_ryd)\n",
    "intercept_error_ryd = residual_std_error_ryd * np.sqrt(1/7 + (np.mean(n_2)**2) / Sxx_ryd)\n",
    "print(slope_error_ryd, intercept_error_ryd)"
   ]
  },
  {
   "cell_type": "code",
   "execution_count": 30,
   "id": "63052d3e-2bcd-4a56-ad19-c590a7614322",
   "metadata": {},
   "outputs": [
    {
     "name": "stdout",
     "output_type": "stream",
     "text": [
      "-11002114.204178078\n"
     ]
    }
   ],
   "source": [
    "print(132055.04 - 11134169.244178077)"
   ]
  },
  {
   "cell_type": "code",
   "execution_count": 39,
   "id": "36ac1693-131b-489e-8f3c-e79f4e18db33",
   "metadata": {},
   "outputs": [
    {
     "name": "stdout",
     "output_type": "stream",
     "text": [
      "0.012939393939394033 4.360333333333332\n",
      "2.909626561805942 18.05375803185909\n"
     ]
    }
   ],
   "source": [
    "x = 1,2,3,4,5,6,7,8,9,10\n",
    "x = np.array(x)\n",
    "magfield = 4.43, 4.23, 4.39, 4.38, 4.5, 4.6, 4.51, 4.375, 4.45, 4.45\n",
    "magfield = np.array(magfield)\n",
    "magave = 4.4315*x\n",
    "residual_mag = magfield - magave\n",
    "\n",
    "RSS_mag = np.sum(residual_mag**2)                  # Residual sum of squares\n",
    "Sxx_mag = np.sum((x - (np.mean(x)))**2)              # Spread of x\n",
    "\n",
    "# Step 3: Residual standard error\n",
    "residual_std_error_mag = np.sqrt(RSS_mag / (10 - 2))  # σ\n",
    "m_mag, b_mag = np.polyfit(x, magfield, 1)\n",
    "print(m_mag, b_mag)\n",
    "\n",
    "# Step 4: Standard errors\n",
    "slope_error_mag = residual_std_error_mag / np.sqrt(Sxx_mag)\n",
    "intercept_error_mag = residual_std_error_mag * np.sqrt(1/10 + (np.mean(x)**2) / Sxx_mag)\n",
    "print(slope_error_mag, intercept_error_mag)\n"
   ]
  },
  {
   "cell_type": "code",
   "execution_count": 46,
   "id": "6cc97319-0e69-46e3-8fbd-922c0354f75b",
   "metadata": {},
   "outputs": [
    {
     "name": "stdout",
     "output_type": "stream",
     "text": [
      "66.47250000000001\n"
     ]
    },
    {
     "data": {
      "text/plain": [
       "1.4895057549085984"
      ]
     },
     "execution_count": 46,
     "metadata": {},
     "output_type": "execute_result"
    }
   ],
   "source": [
    "#TAKING STANDARD DEVIATION\n",
    "sigma = np.sqrt((1/9)*(np.sum(residual_mag)**2))\n",
    "print(sigma)\n",
    "66/9 \n",
    "(66/4431)*100"
   ]
  },
  {
   "cell_type": "code",
   "execution_count": 52,
   "id": "491d813d-c7ca-4a53-8602-8583b93e9a13",
   "metadata": {},
   "outputs": [
    {
     "name": "stdout",
     "output_type": "stream",
     "text": [
      "1.2431876513554398 0.21379869209513958\n"
     ]
    }
   ],
   "source": [
    "from scipy.stats import norm\n",
    "\n",
    "measured_slope_1 = 11134169.2\n",
    "slope_error_1 = 132055.044\n",
    "\n",
    "# Two theoretical constants\n",
    "ryd_known = 1.097*(10**7) \n",
    "\n",
    "ryd_potential = wavelength_1/ (n_2)\n",
    "\n",
    "z1 = (measured_slope_1 - ryd_known) / slope_error_1\n",
    "\n",
    "# Two-tailed p-value for the slope\n",
    "pvalue1 = 2 * norm.sf(abs(z1))\n",
    "# z-scores\n",
    "#z1 = (measured_slope_1 - ryd_potential) / slope_error_1\n",
    "\n",
    "# p-values (two-tailed)\n",
    "#p1 = 2 * norm.sf(abs(z1))\n",
    "\n",
    "print(z1, pvalue1)\n",
    "#print(f\"Comparison to C85: z = {z2_85:.2f}, p = {p2_85:.4f}\")"
   ]
  },
  {
   "cell_type": "code",
   "execution_count": null,
   "id": "66524c05-e4d0-4513-8d95-f968a8b05b17",
   "metadata": {},
   "outputs": [],
   "source": []
  }
 ],
 "metadata": {
  "kernelspec": {
   "display_name": "Python 3 (ipykernel)",
   "language": "python",
   "name": "python3"
  },
  "language_info": {
   "codemirror_mode": {
    "name": "ipython",
    "version": 3
   },
   "file_extension": ".py",
   "mimetype": "text/x-python",
   "name": "python",
   "nbconvert_exporter": "python",
   "pygments_lexer": "ipython3",
   "version": "3.13.1"
  }
 },
 "nbformat": 4,
 "nbformat_minor": 5
}
